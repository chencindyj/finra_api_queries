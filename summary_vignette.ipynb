{
 "cells": [
  {
   "attachments": {},
   "cell_type": "markdown",
   "metadata": {},
   "source": [
    "## finra_api_queries\n",
    "### Cindy Chen, cjc2279"
   ]
  },
  {
   "attachments": {},
   "cell_type": "markdown",
   "metadata": {},
   "source": [
    "### What is the FINRA Query API?\n",
    "FINRA is the Financial Industry Regulatory Authority, which oversees US brokerages and exchanges such as the NYSE and NASDAQ.  They ensure that brokers and dealers in US stock/debt markets are acting according to the laws and rules defined by the Securities and Exchange Commission (SEC) as well as by FINRA.  This API contains information about historical market activity, such as fixed income market activity, statistics such as the size of trades that major institutional investors make, and over-the-counter (OTC) trading activity.  This information allows regulators as well as the public to understand market trading behavior.\n",
    "\n",
    "An API wrapper for this API does not already exist, likely because market trading information in the API is for regulatory purposes and does not serve any financial value with buying or selling equities or debt.\n",
    "\n",
    "#### What does this package do?\n",
    "The finra_api_queries package simplifies the querying of the FINRA Query API including more complex API calls. It also features functions that enable the time series data visualization of fixed income data, summarization of key market breadth data, and keyword filtering for stocks.\n",
    "\n",
    "#### readthedocs Package Documentation\n",
    "https://readthedocs.org/projects/finra-queries-api/\n",
    "\n",
    "#### Test PyPi Link\n",
    "https://test.pypi.org/project/finra-api-queries/"
   ]
  },
  {
   "attachments": {},
   "cell_type": "markdown",
   "metadata": {},
   "source": [
    "__Step 1. Install the package from test.pypi__"
   ]
  },
  {
   "cell_type": "code",
   "execution_count": 1,
   "metadata": {},
   "outputs": [
    {
     "name": "stdout",
     "output_type": "stream",
     "text": [
      "Looking in indexes: https://test.pypi.org/simple/\n",
      "Collecting finra-api-queries\n",
      "  Downloading https://test-files.pythonhosted.org/packages/22/93/2a0b951d34f2007f7d64596e06451de1f3c1f34b7f81b57cec254b559de7/finra_api_queries-0.7.0-py3-none-any.whl (10 kB)\n",
      "Installing collected packages: finra-api-queries\n",
      "Successfully installed finra-api-queries-0.7.0\n"
     ]
    },
    {
     "name": "stderr",
     "output_type": "stream",
     "text": [
      "WARNING: Ignoring invalid distribution -fmpeg (c:\\users\\cindy c\\anaconda3\\lib\\site-packages)\n",
      "WARNING: Ignoring invalid distribution -fmpeg (c:\\users\\cindy c\\anaconda3\\lib\\site-packages)\n",
      "WARNING: Ignoring invalid distribution -fmpeg (c:\\users\\cindy c\\anaconda3\\lib\\site-packages)\n",
      "WARNING: Ignoring invalid distribution -fmpeg (c:\\users\\cindy c\\anaconda3\\lib\\site-packages)\n",
      "WARNING: Ignoring invalid distribution -fmpeg (c:\\users\\cindy c\\anaconda3\\lib\\site-packages)\n",
      "WARNING: Ignoring invalid distribution -fmpeg (c:\\users\\cindy c\\anaconda3\\lib\\site-packages)\n",
      "WARNING: Ignoring invalid distribution -fmpeg (c:\\users\\cindy c\\anaconda3\\lib\\site-packages)\n"
     ]
    }
   ],
   "source": [
    "# install package\n",
    "! pip install  -i https://test.pypi.org/simple/ finra-api-queries"
   ]
  },
  {
   "attachments": {},
   "cell_type": "markdown",
   "metadata": {},
   "source": [
    "__Load Package__"
   ]
  },
  {
   "cell_type": "code",
   "execution_count": 2,
   "metadata": {},
   "outputs": [
    {
     "name": "stderr",
     "output_type": "stream",
     "text": [
      "c:\\Users\\Cindy C\\anaconda3\\lib\\site-packages\\scipy\\__init__.py:138: UserWarning: A NumPy version >=1.16.5 and <1.23.0 is required for this version of SciPy (detected version 1.23.5)\n",
      "  warnings.warn(f\"A NumPy version >={np_minversion} and <{np_maxversion} is required for this version of \"\n"
     ]
    }
   ],
   "source": [
    "# import package from test.pypi\n",
    "from finra_api_queries import finra_api_queries"
   ]
  },
  {
   "attachments": {},
   "cell_type": "markdown",
   "metadata": {},
   "source": [
    "__Function 1:__ The __retrieve_api_token()__ function helps the user generate a time-sensitive API token that's required to access the FINRA Query API.  It simplifies the process so that the user does not have to write a request.post() statement to get this information."
   ]
  },
  {
   "cell_type": "code",
   "execution_count": 3,
   "metadata": {},
   "outputs": [],
   "source": [
    "from dotenv import load_dotenv\n",
    "load_dotenv()\n",
    "finra_api_key = os.getenv('FINRA_API_CLIENT')\n",
    "finra_api_secret = os.getenv('SECRET')"
   ]
  },
  {
   "cell_type": "code",
   "execution_count": 4,
   "metadata": {},
   "outputs": [
    {
     "name": "stdout",
     "output_type": "stream",
     "text": [
      "*AAJTSQACMDIABHR5cGUAA0pXVAACUzEAAjAx*eyJ0eXAiOiJKV1QiLCJjdHkiOiJKV1QiLCJhbGciOiJIUzI1NiJ9.ZXlKMGVYQWlPaUpLVjFRaUxDSmxibU1pT2lKQk1USTRRMEpETFVoVE1qVTJJaXdpWVd4bklqb2laR2x5SW4wLi5TUG9PdGM5TE5SbnJ4NkdFVTZ4cFl3Lm9WZkFTUEVTMFBqTUt3NmI1a2VUZUdsamdDY09HbFRhY2FzMmdTWDVkZ05MeS1xdWt6a1hnUTJIRHVCbDJGRVBFY3JybWZhQkpTLThOOXhOWFlnYWpwTFJ1UzkzeXNVX2tmdkVGbDhSaHBZaE5VTEpNVzFFSnAyRFd5cGlCM3JxeVdBbnl0enFLXzVnQVNIbDF6VENMUWVDb0REOXpjX1FBa2hRcFA2TEk4N2wzdjFPZkpFZ0tCb05JaGhqQTFjbU5MSmpuVlpUNktFWURHRnZ4YzlBZlMtOHpMa1B4ODctck1zZHZRdTZWczl5NmdsSWljUTZIT0tCUmYwYlVsbXY0eExRR0ZlS1RabnQ1b1o2aFhmMHlJSEZCLS01SUhGMUM0VUt0RkF0bDFaSmhFejY4cTBjZUY0TGttUzMzNHdkNWh0VmZjajhKSmFmd1FwN0lEQjRSNmFUZHdOcHp6bGQxUW1VYnpKa0pzcVRuSUZmelpMQkduc1lkMXV5RER4X0RicmszZmloSERRaDlFM2pmd1MxZk9OdUUzWjA2T0Q2M2Y3WmRZVmlIQ0N5M0VBUGF0UlEtSkZqOXQ5aUl6dEtCOWQzZ0F3OUFMRkxSY0RqWDdtV3pZcWZuSEtCU0U1OHNhNXVmRnB0cnNyT01nUjBlTFlVbm84bzZCTi1iam85aW93VDFObzgtRW8wWkwtemFzdTJQeEJCN3VoQU5qRGwxZEZ6bDhLMkNpY3E1dVMwRjJ3YjJMOWdubWZ2RVQ3UU5hT2EySU5WOHFMd1F4U0FTaDZTRThXOG85SDdvdVROYmhHU0pXcFFCaDdMclNzbzFYSXd4M05MUEpKVEl5Q1djcjhQQ0t3QWRqZXR2NzBrV08xbnM3OHhpR0Z2SnE4c0lpTXVjVWZjN0FjQUlXUVFhSVhSOFNnaEVwMEFYX3FZWGdhV3JCN0EtMUhVN1F0ajlWVWFmM2FrQWQtOWphWDRadU5idi1rdUhZQzY4SEtjV1gzU2lSdWFDQmYxSzBBeHlMeUNrTTdlaTkzOEVoa2RCNXlrbmc4Z3JVZlhZN3E1alFVS2dfWkZ0eVBkV2JrMjJIVUZ0djkyV0JhSWRnaW5tQVNrd2J2clhFbndDVndLbXYxb01RR0xGYVJUUnIzNVNrT3daR0l0WGNldmVaUFVoekFLVVg5TXJkRk1DU3Q1bWc0aEZvZjhVbW1UNjVmS0llMkNhdzJHdHN0UDZmNlhRVHE4aVhsLUR4YjRUY25veXNiWUJVd1N6akNqQ1J5NU9TN09QMDFMekdZRXRvSVVIYXB4Tl9aeGhIOWlxcHZ5QWJtQzFmb0o0VUpyaURJRThzbEpSRUZ4QVlPTGF1Zmh0RjlSeFMtZXE3MVBnWGdMVEVMTUJ0Q1RlOUpDRDhlRmh4clVnaHhDSkdKejFMTW5TaUJ4Q3pUT1pfTkRPazZmdDJnRkRpVTZ2eHhiSTRIR2VnRUZmX2Zab3JpOHFtTlNHOEVXa25yVXVKN3p4ZjFnbTNNQ1dZWko0dWM5a25rcm1BWkZtb2d4TmVtdUsyMklJeEVSYUlhSWdtT0ctWGc5UEhINGx6ZjhCV2RuTnJsdXcxcVp6cHJ5MjNMRGZGUmhlRkdtU1NWbWNJamlyWmlkbmE4UVdrVTdfbmlpQkttZWQzVHJoeHB0enZpSHhpelRmUnpTajVqZ29oRGxmRWRqc04yYlZqNW1MZnNZZ1hoa2l3VzlPRkZsYmc2dkd4VlFMUDJBQUhKT0tYVWE0MmpzbFZaYzNmRVpETGVfZmxoMWVuNHg1MVFEYk5tZXpKUXBrOUJWSnVlN1p5MFZGUk9CbUJfQldCNEdSRkxQWlFIMzh2OEdhd2FNdTFlVVN6X1ZEUVJGa3JnemQzcUc4T0pLbGVLLUYwYkZ2eW1pMlA0ZlNFNEUyVTlrWG0tMHNZWG9EMTViZXNwQTNWTy1WZDgzTzBEaU91WU5qSWhFZUNHeEFTZ2pqQ0Z4cnp2bTVEUFduRnVtdEFCMW85dV9wYXRNYnZvR3dNamVjUzh1M0dWci5HeGxwT3JQUUZ4dDVqYmZZVWVhV0xB.JmmGlLFH7b6DVbvZCUyZkb3ze1oqhYuDi6So-DlKG-A\n"
     ]
    }
   ],
   "source": [
    "# generate the api key\n",
    "cindys_api_key = finra_api_queries.retrieve_api_token(finra_api_key, finra_api_secret)\n",
    "print(cindys_api_key)"
   ]
  },
  {
   "attachments": {},
   "cell_type": "markdown",
   "metadata": {},
   "source": [
    "__Function 2:__ The __retrieve_dataset()__ function enables the user to retrieve one of FINRA's 15 publicly-accessible data sets.  It gives them the option to perform more complex querying, such as filtering on specific values including comparisons like \"> 1000\", or on a date range, returning only certain columns in a data set, and limiting the number of rows returned in the API call.  The function elegantly simplifies the inclusion of additional filters/parameters in the API call where possible.  This is extremely helpful since public use of the API has a 10 GB monthly data limit, so being able to filter data as precisely as possible to minimize superfluous data in the API call minimizes the data usage.\n",
    "\n",
    "The function also automates the complex input requirements of the API. For instance, the 'filters' input in the function allows users to input filters in a much simpler and more intuitive manner than the API request requires.  Whereas a user engaging directly with the API must list categorical filters (like Company == \"JP Morgan\") and numeric filters (like tradeSize > 800) in separate dictionaries for separate parameters, this function uses regex, if statements, and loops to automatically separate out those parameters for the user and input them into the API call."
   ]
  },
  {
   "cell_type": "code",
   "execution_count": 7,
   "metadata": {},
   "outputs": [
    {
     "data": {
      "text/html": [
       "<div>\n",
       "<style scoped>\n",
       "    .dataframe tbody tr th:only-of-type {\n",
       "        vertical-align: middle;\n",
       "    }\n",
       "\n",
       "    .dataframe tbody tr th {\n",
       "        vertical-align: top;\n",
       "    }\n",
       "\n",
       "    .dataframe thead th {\n",
       "        text-align: right;\n",
       "    }\n",
       "</style>\n",
       "<table border=\"1\" class=\"dataframe\">\n",
       "  <thead>\n",
       "    <tr style=\"text-align: right;\">\n",
       "      <th></th>\n",
       "      <th>crdFirmName</th>\n",
       "      <th>lastUpdateDate</th>\n",
       "      <th>averageTradeSize</th>\n",
       "    </tr>\n",
       "  </thead>\n",
       "  <tbody>\n",
       "    <tr>\n",
       "      <th>0</th>\n",
       "      <td>CITADEL SECURITIES LLC</td>\n",
       "      <td>2020-04-06</td>\n",
       "      <td>281</td>\n",
       "    </tr>\n",
       "    <tr>\n",
       "      <th>1</th>\n",
       "      <td>SIDOTI &amp; COMPANY, LLC</td>\n",
       "      <td>2020-04-06</td>\n",
       "      <td>28892</td>\n",
       "    </tr>\n",
       "    <tr>\n",
       "      <th>2</th>\n",
       "      <td>CITADEL SECURITIES LLC</td>\n",
       "      <td>2020-04-06</td>\n",
       "      <td>281</td>\n",
       "    </tr>\n",
       "    <tr>\n",
       "      <th>3</th>\n",
       "      <td>SIDOTI &amp; COMPANY, LLC</td>\n",
       "      <td>2020-04-06</td>\n",
       "      <td>28892</td>\n",
       "    </tr>\n",
       "    <tr>\n",
       "      <th>4</th>\n",
       "      <td>CITADEL SECURITIES LLC</td>\n",
       "      <td>2020-04-06</td>\n",
       "      <td>281</td>\n",
       "    </tr>\n",
       "  </tbody>\n",
       "</table>\n",
       "</div>"
      ],
      "text/plain": [
       "              crdFirmName lastUpdateDate  averageTradeSize\n",
       "0  CITADEL SECURITIES LLC     2020-04-06               281\n",
       "1   SIDOTI & COMPANY, LLC     2020-04-06             28892\n",
       "2  CITADEL SECURITIES LLC     2020-04-06               281\n",
       "3   SIDOTI & COMPANY, LLC     2020-04-06             28892\n",
       "4  CITADEL SECURITIES LLC     2020-04-06               281"
      ]
     },
     "execution_count": 7,
     "metadata": {},
     "output_type": "execute_result"
    }
   ],
   "source": [
    "# retrieve a data set\n",
    "dataset_name = \"otc_blocks_summary\"\n",
    "rows_returned = 200\n",
    "filtered_columns_input = ['lastUpdateDate', 'averageTradeSize', 'crdFirmName']\n",
    "filters_input = {'crdFirmName': ['CITADEL SECURITIES LLC', 'SIDOTI & COMPANY, LLC'],\n",
    "                'averageTradeSize': ['>= 20'],\n",
    "                'averageTradeSizeRank': ['!= 100']}\n",
    "date_filter_inputs = [{'startDate': '2020-04-01', 'endDate': '2021-03-01', 'fieldName': 'lastUpdateDate'}]\n",
    "\n",
    "sample_query = finra_api_queries.retrieve_dataset(dataset_name, cindys_api_key, rows_returned,\n",
    "                                            filtered_columns = filtered_columns_input,\n",
    "                                            filters = filters_input,\n",
    "                                            date_filter = date_filter_inputs)\n",
    "\n",
    "sample_query.head(5)"
   ]
  },
  {
   "cell_type": "code",
   "execution_count": 5,
   "metadata": {},
   "outputs": [
    {
     "name": "stdout",
     "output_type": "stream",
     "text": [
      "Help on function retrieve_dataset in module finra_api_queries.finra_api_queries:\n",
      "\n",
      "retrieve_dataset(dataset_name: str, my_access_token: str, rows_returned: int = 2000, filtered_columns: list = [], filters: dict = {}, date_filter=[{}])\n",
      "    Simplifies the retrieval of publicly-accessible data sets from the FINRA API, allowing optional column subsetting, filtering, and date filtering.\n",
      "    Does not further transform the data sets from the API output.\n",
      "    \n",
      "    Parameters\n",
      "    ----------\n",
      "    dataset_name: str\n",
      "        Choose a dataset name from the following list (official FINRA API Dataset name in parentheses):\n",
      "        - blocks_summary (Blocks Summary)\n",
      "        - otc_equity_shorts (Equity Short Interest)\n",
      "        - otc_blocks_summary (OTC Block Summary)\n",
      "        - regsho_daily_shorts_volume (Reg SHO Daily Short Sale Volume)\n",
      "        - threshold_list (Threshold List)\n",
      "        - weekly_summary (Weekly Summary)\n",
      "        - finra_registered_firms (Firm Registration Types)\n",
      "        - fixed_income_agencydebt_marketbreadth (Agency Debt Market Breadth)\n",
      "        - fixed_income_agencydebt_marketsentiment (Agency Debt Market Sentiment)\n",
      "        - fixed_income_rule144a_marketbreadth (Corporate 144A Debt Market Breadth)\n",
      "        - fixed_income_rule144a_marketsentiment (Corporate 144A Debt Market Sentiment)\n",
      "        - fixed_income_corp_agency_capped_volume (Corporate and Agency Capped Volume)\n",
      "        - fixed_income_corpdebt_marketbreadth (Corporate Debt Market Breadth)\n",
      "        - fixed_income_corpdebt_marketsentiment (Corporate Debt Market Sentiment)\n",
      "        - fixed_income_securitized_capped_volume (Securitized Product Capped Volume)\n",
      "        - fixed_income_treasury_weekly_agg (Treasury Weekly Aggregates)\n",
      "    \n",
      "    my_access_token: str\n",
      "        Access token previously generated\n",
      "    \n",
      "    rows_returned: int\n",
      "        Rows returned by the query. Defaults to 2000 rows, though you should be cognizant of your API data quota.\n",
      "    \n",
      "    filtered_columns: list\n",
      "        Optional. List of the specific columns to return in the data frame.\n",
      "        Run show_filterable_columns() based on the dataset name to see eligible columns for filtering.\n",
      "    \n",
      "    filters: dictionary\n",
      "        Optional. Filter the data set on one or more values; multiple column filters are possible, and you can also filter on values using\n",
      "        simple quantifiers like >, <, <=, >=, ==, and !=.\n",
      "        The input is different from the API based on field name as the key and a __list__ of filtered values as the dictionary values.\n",
      "        Filter values must be an exact match since the filter is applied to the API query and is not filter that's applied subsequent the API call.\n",
      "    \n",
      "    date_filter: dictionary within a list\n",
      "        Optional argument if dates should be filtered by a certain date range for a date-related column.  Input follows the API input convention.\n",
      "        Follows the convention [{'startDate': 'YYYY-MM-DD', 'endDate': 'YYYY-MM-DD', 'fieldName': 'DATECOLUMN'}]\n",
      "    \n",
      "    Returns\n",
      "    -------\n",
      "    pandas.DataFrame\n",
      "    \n",
      "    Examples\n",
      "    --------\n",
      "    >>> from finra_api_queries import finra_api_queries\n",
      "    >>> dataset_name = \"otc_blocks_summary\"\n",
      "    >>> my_access_token = \"ABCDFGH545645645645648797212630\"\n",
      "    >>> rows_returned = 200\n",
      "    >>> filtered_columns_input = ['lastUpdateDate', 'averageTradeSize', 'crdFirmName']\n",
      "    >>> filters_input = filters= {'crdFirmName': ['CITADEL SECURITIES LLC', 'SIDOTI & COMPANY, LLC'],\n",
      "                                  'averageTradeSize': ['>= 20'],\n",
      "                                  'averageTradeSizeRank': ['!= 100']}\n",
      "    >>> date_filter_inputs = [{'startDate': '2020-04-01', 'endDate': '2021-03-01', 'fieldName': 'lastUpdateDate'}]\n",
      "    >>> output_1 = finra_api_queries.retrieve_dataset(dataset_name, my_access_token, rows_returned,\n",
      "                                            filtered_columns = filtered_columns_input,\n",
      "                                            filters = filters_input,\n",
      "                                            date_filter = date_filter_inputs) \n",
      "    \n",
      "    >>> output_1.head(n = 3)\n",
      "        crdFirmName             lastUpdateDate  averageTradeSize\n",
      "    0   CITADEL SECURITIES LLC  2020-04-06      281\n",
      "    1   SIDOTI & COMPANY, LLC   2020-04-06      28892\n",
      "    2   CITADEL SECURITIES LLC  2020-04-06      281\n",
      "\n"
     ]
    }
   ],
   "source": [
    "# see the available data sets that can be retrieved\n",
    "help(finra_api_queries.retrieve_dataset)"
   ]
  },
  {
   "attachments": {},
   "cell_type": "markdown",
   "metadata": {},
   "source": [
    "__Function 3:__ The __show_filterable_columns()__ function enables the user to see all the columns that they can filter on for a specific data set.  Since certain data sets have more than 10 columns, this helps users understand what columns are in the data, as well as which columns they might want.  Since the FINRA Query API only allows users to access 10 GB of data per month, the function's flexibility to limit column outputs and filter data by certain values helps users minimize their data usage."
   ]
  },
  {
   "cell_type": "code",
   "execution_count": 8,
   "metadata": {},
   "outputs": [
    {
     "data": {
      "text/plain": [
       "['tradeDate',\n",
       " 'issueSymbolIdentifier',\n",
       " 'issueName',\n",
       " 'marketClassCode',\n",
       " 'thresholdListFlag',\n",
       " 'marketCategoryDescription',\n",
       " 'regShoThresholdFlag',\n",
       " 'rule4320Flag']"
      ]
     },
     "execution_count": 8,
     "metadata": {},
     "output_type": "execute_result"
    }
   ],
   "source": [
    "finra_api_queries.show_filterable_columns(dataset_name = 'threshold_list', my_access_token = cindys_api_key)"
   ]
  },
  {
   "attachments": {},
   "cell_type": "markdown",
   "metadata": {},
   "source": [
    "__Function 4:__ The __filter_by_weekly_stock()__ function enables the user to search a data set's equity/stock names (in both the columns 'issueSymbolIdentifier' and 'issueName') using a fuzzy match. This function is useful because the FINRA API does not allow fuzzy matches for filtering when making a call; it only allows for exact matches. Accordingly, when a user wants to extract an entire time frame of data, this function allows them to easily filter onto the results they seek without knowing the exact stock name or ticker ID by searching for the stock keyword in both columns and returning matches that appear in either column."
   ]
  },
  {
   "cell_type": "code",
   "execution_count": 9,
   "metadata": {},
   "outputs": [
    {
     "data": {
      "text/html": [
       "<div>\n",
       "<style scoped>\n",
       "    .dataframe tbody tr th:only-of-type {\n",
       "        vertical-align: middle;\n",
       "    }\n",
       "\n",
       "    .dataframe tbody tr th {\n",
       "        vertical-align: top;\n",
       "    }\n",
       "\n",
       "    .dataframe thead th {\n",
       "        text-align: right;\n",
       "    }\n",
       "</style>\n",
       "<table border=\"1\" class=\"dataframe\">\n",
       "  <thead>\n",
       "    <tr style=\"text-align: right;\">\n",
       "      <th></th>\n",
       "      <th>totalWeeklyShareQuantity</th>\n",
       "      <th>issueSymbolIdentifier</th>\n",
       "      <th>issueName</th>\n",
       "      <th>lastUpdateDate</th>\n",
       "      <th>lastReportedDate</th>\n",
       "      <th>tierDescription</th>\n",
       "      <th>initialPublishedDate</th>\n",
       "      <th>tierIdentifier</th>\n",
       "      <th>summaryStartDate</th>\n",
       "      <th>totalWeeklyTradeCount</th>\n",
       "      <th>weekStartDate</th>\n",
       "      <th>MPID</th>\n",
       "      <th>firmCRDNumber</th>\n",
       "      <th>productTypeCode</th>\n",
       "      <th>marketParticipantName</th>\n",
       "      <th>summaryTypeCode</th>\n",
       "    </tr>\n",
       "  </thead>\n",
       "  <tbody>\n",
       "    <tr>\n",
       "      <th>1141</th>\n",
       "      <td>45050</td>\n",
       "      <td>BBBY</td>\n",
       "      <td>Bed Bath &amp; Beyond Inc. Common Stock</td>\n",
       "      <td>2018-06-11</td>\n",
       "      <td>2018-05-21</td>\n",
       "      <td>NMS Tier 1</td>\n",
       "      <td>2018-06-11</td>\n",
       "      <td>T1</td>\n",
       "      <td>2018-05-21</td>\n",
       "      <td>4</td>\n",
       "      <td>2018-05-21</td>\n",
       "      <td>BLKX</td>\n",
       "      <td>NaN</td>\n",
       "      <td>None</td>\n",
       "      <td>BLKX BLOCKCROSS</td>\n",
       "      <td>ATS_W_SMBL_FIRM</td>\n",
       "    </tr>\n",
       "    <tr>\n",
       "      <th>1527</th>\n",
       "      <td>2199366</td>\n",
       "      <td>BBBY</td>\n",
       "      <td>Bed Bath &amp; Beyond Inc. Common Stock</td>\n",
       "      <td>2018-06-11</td>\n",
       "      <td>2018-05-25</td>\n",
       "      <td>NMS Tier 1</td>\n",
       "      <td>2018-06-11</td>\n",
       "      <td>T1</td>\n",
       "      <td>2018-05-21</td>\n",
       "      <td>12468</td>\n",
       "      <td>2018-05-21</td>\n",
       "      <td>None</td>\n",
       "      <td>NaN</td>\n",
       "      <td>UTP</td>\n",
       "      <td>None</td>\n",
       "      <td>ATS_W_SMBL</td>\n",
       "    </tr>\n",
       "  </tbody>\n",
       "</table>\n",
       "</div>"
      ],
      "text/plain": [
       "      totalWeeklyShareQuantity issueSymbolIdentifier  \\\n",
       "1141                     45050                  BBBY   \n",
       "1527                   2199366                  BBBY   \n",
       "\n",
       "                                issueName lastUpdateDate lastReportedDate  \\\n",
       "1141  Bed Bath & Beyond Inc. Common Stock     2018-06-11       2018-05-21   \n",
       "1527  Bed Bath & Beyond Inc. Common Stock     2018-06-11       2018-05-25   \n",
       "\n",
       "     tierDescription initialPublishedDate tierIdentifier summaryStartDate  \\\n",
       "1141      NMS Tier 1           2018-06-11             T1       2018-05-21   \n",
       "1527      NMS Tier 1           2018-06-11             T1       2018-05-21   \n",
       "\n",
       "      totalWeeklyTradeCount weekStartDate  MPID  firmCRDNumber  \\\n",
       "1141                      4    2018-05-21  BLKX            NaN   \n",
       "1527                  12468    2018-05-21  None            NaN   \n",
       "\n",
       "     productTypeCode marketParticipantName  summaryTypeCode  \n",
       "1141            None       BLKX BLOCKCROSS  ATS_W_SMBL_FIRM  \n",
       "1527             UTP                  None       ATS_W_SMBL  "
      ]
     },
     "execution_count": 9,
     "metadata": {},
     "output_type": "execute_result"
    }
   ],
   "source": [
    "# let's look for all stocks that contain the term 'bed' in either the 'issueSymbolIdentifier' or 'issueName' columns\n",
    "stock_keyword ='bed'\n",
    "finra_api_queries.filter_by_weekly_stock(stock_keyword = stock_keyword, my_access_token = cindys_api_key)"
   ]
  },
  {
   "attachments": {},
   "cell_type": "markdown",
   "metadata": {},
   "source": [
    "__Function 5:__ The __summarize_trading_breadth()__ function summarizes fixed income trading information (volume per trade, totals, proportions) by product category.  This is a helpful function because the raw dataset contains very granular daily information, so this function helps aggregate that information, performs new calculations, and returns a much cleaner data frame of information."
   ]
  },
  {
   "cell_type": "code",
   "execution_count": 11,
   "metadata": {},
   "outputs": [
    {
     "data": {
      "text/html": [
       "<div>\n",
       "<style scoped>\n",
       "    .dataframe tbody tr th:only-of-type {\n",
       "        vertical-align: middle;\n",
       "    }\n",
       "\n",
       "    .dataframe tbody tr th {\n",
       "        vertical-align: top;\n",
       "    }\n",
       "\n",
       "    .dataframe thead th {\n",
       "        text-align: right;\n",
       "    }\n",
       "</style>\n",
       "<table border=\"1\" class=\"dataframe\">\n",
       "  <thead>\n",
       "    <tr style=\"text-align: right;\">\n",
       "      <th></th>\n",
       "      <th>productCategory</th>\n",
       "      <th>fiftyTwoWeekLow</th>\n",
       "      <th>fiftyTwoWeekHigh</th>\n",
       "      <th>declines</th>\n",
       "      <th>advances</th>\n",
       "      <th>unchanged</th>\n",
       "      <th>totalVolume</th>\n",
       "      <th>totalTrades</th>\n",
       "      <th>Volume_per_Trade</th>\n",
       "    </tr>\n",
       "  </thead>\n",
       "  <tbody>\n",
       "    <tr>\n",
       "      <th>0</th>\n",
       "      <td>convertibles</td>\n",
       "      <td>12</td>\n",
       "      <td>11</td>\n",
       "      <td>246</td>\n",
       "      <td>395</td>\n",
       "      <td>11</td>\n",
       "      <td>3717.737109</td>\n",
       "      <td>675</td>\n",
       "      <td>5.507759</td>\n",
       "    </tr>\n",
       "    <tr>\n",
       "      <th>1</th>\n",
       "      <td>investment grade</td>\n",
       "      <td>342</td>\n",
       "      <td>67</td>\n",
       "      <td>4776</td>\n",
       "      <td>15490</td>\n",
       "      <td>64</td>\n",
       "      <td>75319.218227</td>\n",
       "      <td>20850</td>\n",
       "      <td>3.612433</td>\n",
       "    </tr>\n",
       "    <tr>\n",
       "      <th>2</th>\n",
       "      <td>all securities</td>\n",
       "      <td>651</td>\n",
       "      <td>106</td>\n",
       "      <td>7102</td>\n",
       "      <td>18843</td>\n",
       "      <td>141</td>\n",
       "      <td>95962.925690</td>\n",
       "      <td>27264</td>\n",
       "      <td>3.519767</td>\n",
       "    </tr>\n",
       "    <tr>\n",
       "      <th>3</th>\n",
       "      <td>high yield</td>\n",
       "      <td>276</td>\n",
       "      <td>28</td>\n",
       "      <td>2080</td>\n",
       "      <td>2958</td>\n",
       "      <td>66</td>\n",
       "      <td>16926.424069</td>\n",
       "      <td>5739</td>\n",
       "      <td>2.949368</td>\n",
       "    </tr>\n",
       "  </tbody>\n",
       "</table>\n",
       "</div>"
      ],
      "text/plain": [
       "    productCategory  fiftyTwoWeekLow  fiftyTwoWeekHigh  declines  advances  \\\n",
       "0      convertibles               12                11       246       395   \n",
       "1  investment grade              342                67      4776     15490   \n",
       "2    all securities              651               106      7102     18843   \n",
       "3        high yield              276                28      2080      2958   \n",
       "\n",
       "   unchanged   totalVolume  totalTrades  Volume_per_Trade  \n",
       "0         11   3717.737109          675          5.507759  \n",
       "1         64  75319.218227        20850          3.612433  \n",
       "2        141  95962.925690        27264          3.519767  \n",
       "3         66  16926.424069         5739          2.949368  "
      ]
     },
     "execution_count": 11,
     "metadata": {},
     "output_type": "execute_result"
    }
   ],
   "source": [
    "dataset_name = 'fixed_income_corpdebt_marketbreadth'\n",
    "date_filter_inputs = [{'startDate': '2022-02-25', 'endDate': '2022-03-01', 'fieldName': 'tradeReportDate'}]\n",
    "finra_api_queries.summarize_trading_breadth(dataset_name = dataset_name, my_access_token = cindys_api_key, date_filter = date_filter_inputs)"
   ]
  },
  {
   "attachments": {},
   "cell_type": "markdown",
   "metadata": {},
   "source": [
    "__Function 6:__ The __visualize_market_sentiment()__ function creates time-series plots for any of the three Market Sentiment data sets.  This allows users to understand how different market products are trending over time.  Users have flexibly over filtering the data set, as well as determining the variable placed on the x-axis and how the variables are grouped when the visualization is generated.  Many of the restrictions for the function are outlined in the doc strings.\n",
    "\n",
    "The output also includes the data frame used to create the plots so that the user can export the transformed dataframe for their personal uses if desired."
   ]
  },
  {
   "cell_type": "code",
   "execution_count": 12,
   "metadata": {},
   "outputs": [
    {
     "name": "stderr",
     "output_type": "stream",
     "text": [
      "c:\\Users\\Cindy C\\Documents\\GitHub\\Modern_Data_Structures\\chen_cindy\\finra_api_queries\\finra_api_queries\\finra_api_queries.py:710: FutureWarning: The default value of numeric_only in DataFrameGroupBy.sum is deprecated. In a future version, numeric_only will default to False. Either specify numeric_only or select only columns which should be valid for the function.\n",
      "  orig_df = pd.DataFrame(orig_df.groupby([x_axis, grouping]).agg(aggregate_method)).reset_index()\n"
     ]
    },
    {
     "data": {
      "text/plain": [
       "(   tradeReportDate productCategory  totalVolume  totalTransactions  \\\n",
       " 0       2020-07-01   affiliate buy   2163.19306               3228   \n",
       " 1       2020-07-01  affiliate sell   2283.10436               3452   \n",
       " 2       2020-07-01  all securities  51687.17489             113670   \n",
       " 3       2020-07-01    customer buy  16764.96420              29088   \n",
       " 4       2020-07-01   customer sell  19917.14137              34322   \n",
       " 5       2020-07-01    inter-dealer  10558.77188              43580   \n",
       " 6       2020-07-02   affiliate buy   2150.71064               3216   \n",
       " 7       2020-07-02  affiliate sell   1749.25744               2838   \n",
       " 8       2020-07-02  all securities  28582.18918              69918   \n",
       " 9       2020-07-02    customer buy   9808.56686              16922   \n",
       " 10      2020-07-02   customer sell   8371.08140              19532   \n",
       " 11      2020-07-02    inter-dealer   6502.57284              27410   \n",
       " 12      2020-07-06   affiliate buy   2704.34392               5560   \n",
       " 13      2020-07-06  affiliate sell   1894.24282               4574   \n",
       " 14      2020-07-06  all securities  48336.68243             119180   \n",
       " 15      2020-07-06    customer buy  17390.32065              29870   \n",
       " 16      2020-07-06   customer sell  15431.75596              33926   \n",
       " 17      2020-07-06    inter-dealer  10916.01910              45250   \n",
       " 18      2020-07-07   affiliate buy   3062.81346               3682   \n",
       " 19      2020-07-07  affiliate sell   2643.07695               3546   \n",
       " 20      2020-07-07  all securities  58983.57158             120152   \n",
       " 21      2020-07-07    customer buy  20613.48058              30914   \n",
       " 22      2020-07-07   customer sell  20913.95527              36976   \n",
       " 23      2020-07-07    inter-dealer  11750.24531              45034   \n",
       " 24      2020-07-08   affiliate buy   2624.75196               3518   \n",
       " 25      2020-07-08  affiliate sell   2954.95375               3384   \n",
       " 26      2020-07-08  all securities  59883.82766             123200   \n",
       " 27      2020-07-08    customer buy  22093.91924              29206   \n",
       " 28      2020-07-08   customer sell  21375.71076              40064   \n",
       " 29      2020-07-08    inter-dealer  10834.49195              47028   \n",
       " 30      2020-07-09   affiliate buy   2488.73136               3210   \n",
       " 31      2020-07-09  affiliate sell   2527.18872               3992   \n",
       " 32      2020-07-09  all securities  51087.26951             111398   \n",
       " 33      2020-07-09    customer buy  16317.96638              29102   \n",
       " 34      2020-07-09   customer sell  19043.11454              33038   \n",
       " 35      2020-07-09    inter-dealer  10710.26850              42056   \n",
       " 36      2020-07-10   affiliate buy   2176.21662               3540   \n",
       " 37      2020-07-10  affiliate sell   2026.72434               3608   \n",
       " 38      2020-07-10  all securities  38248.00937             100378   \n",
       " 39      2020-07-10    customer buy  12417.46098              26092   \n",
       " 40      2020-07-10   customer sell  14015.33894              29416   \n",
       " 41      2020-07-10    inter-dealer   7612.26848              37722   \n",
       " \n",
       "     totalTrades  \n",
       " 0          2546  \n",
       " 1          2784  \n",
       " 2         17670  \n",
       " 3         12518  \n",
       " 4         12098  \n",
       " 5         12440  \n",
       " 6          2384  \n",
       " 7          2140  \n",
       " 8         14488  \n",
       " 9          9114  \n",
       " 10         9068  \n",
       " 11         9352  \n",
       " 12         3974  \n",
       " 13         3338  \n",
       " 14        17598  \n",
       " 15        12232  \n",
       " 16        11658  \n",
       " 17        12370  \n",
       " 18         2590  \n",
       " 19         2538  \n",
       " 20        18152  \n",
       " 21        12994  \n",
       " 22        12502  \n",
       " 23        12850  \n",
       " 24         2588  \n",
       " 25         2508  \n",
       " 26        17806  \n",
       " 27        12222  \n",
       " 28        12588  \n",
       " 29        12722  \n",
       " 30         2334  \n",
       " 31         2890  \n",
       " 32        17544  \n",
       " 33        12722  \n",
       " 34        11600  \n",
       " 35        12258  \n",
       " 36         2700  \n",
       " 37         2722  \n",
       " 38        16582  \n",
       " 39        11676  \n",
       " 40        10740  \n",
       " 41        11408  ,\n",
       " <Figure size 1200x400 with 3 Axes>)"
      ]
     },
     "execution_count": 12,
     "metadata": {},
     "output_type": "execute_result"
    },
    {
     "data": {
      "image/png": "[encoded data removed]",
      "text/plain": [
       "<Figure size 1200x400 with 3 Axes>"
      ]
     },
     "metadata": {},
     "output_type": "display_data"
    }
   ],
   "source": [
    "dataset_name = 'fixed_income_corpdebt_marketsentiment'\n",
    "x_axis = 'tradeReportDate'\n",
    "grouping = 'productCategory'\n",
    "aggregate_method = 'count'\n",
    "date_filter=[{'startDate': '2020-07-01', 'endDate': '2020-07-10', 'fieldName': 'tradeReportDate'}]\n",
    "finra_api_queries.visualize_market_sentiment(dataset_name = dataset_name,\n",
    "                                my_access_token = cindys_api_key,\n",
    "                                x_axis = x_axis,\n",
    "                                grouping = grouping,\n",
    "                                date_filter = date_filter)"
   ]
  },
  {
   "attachments": {},
   "cell_type": "markdown",
   "metadata": {},
   "source": [
    "Testing Using PyTest"
   ]
  },
  {
   "cell_type": "code",
   "execution_count": 13,
   "metadata": {},
   "outputs": [
    {
     "name": "stdout",
     "output_type": "stream",
     "text": [
      "============================= test session starts =============================\n",
      "platform win32 -- Python 3.9.4, pytest-7.2.0, pluggy-1.0.0 -- C:\\Users\\Cindy C\\AppData\\Local\\pypoetry\\Cache\\virtualenvs\\finra-api-queries-FZA2Mhb8-py3.9\\Scripts\\python.exe\n",
      "cachedir: .pytest_cache\n",
      "rootdir: c:\\Users\\Cindy C\\Documents\\GitHub\\Modern_Data_Structures\\chen_cindy\\finra_api_queries\n",
      "plugins: cov-4.0.0\n",
      "collecting ... collected 6 items\n",
      "\n",
      "tests/test_finra_api_queries.py::test_retrieve_api_token PASSED          [ 16%]\n",
      "tests/test_finra_api_queries.py::test_show_filterable_columns PASSED     [ 33%]\n",
      "tests/test_finra_api_queries.py::test_retrieve_dataset PASSED            [ 50%]\n",
      "tests/test_finra_api_queries.py::test_filter_by_weekly_stock PASSED      [ 66%]\n",
      "tests/test_finra_api_queries.py::test_summarize_trading_breadth PASSED   [ 83%]\n",
      "tests/test_finra_api_queries.py::test_visualize_market_sentiment PASSED  [100%]\n",
      "\n",
      "============================== 6 passed in 8.45s ==============================\n"
     ]
    },
    {
     "name": "stderr",
     "output_type": "stream",
     "text": [
      "Windows fatal exception: code 0xc0000139\n",
      "\n",
      "Thread 0x000049a8 (most recent call first):\n",
      "  File \"<frozen importlib._bootstrap>\", line 228 in _call_with_frames_removed\n",
      "  File \"<frozen importlib._bootstrap_external>\", line 1108 in create_module\n",
      "  File \"<frozen importlib._bootstrap>\", line 565 in module_from_spec\n",
      "  File \"<frozen importlib._bootstrap>\", line 666 in _load_unlocked\n",
      "  File \"<frozen importlib._bootstrap>\", line 986 in _find_and_load_unlocked\n",
      "  File \"<frozen importlib._bootstrap>\", line 1007 in _find_and_load\n",
      "  File \"C:\\Users\\Cindy C\\AppData\\Local\\pypoetry\\Cache\\virtualenvs\\finra-api-queries-FZA2Mhb8-py3.9\\lib\\site-packages\\win32com\\__init__.py\", line 5 in <module>\n",
      "  File \"<frozen importlib._bootstrap>\", line 228 in _call_with_frames_removed\n",
      "  File \"<frozen importlib._bootstrap_external>\", line 790 in exec_module\n",
      "  File \"<frozen importlib._bootstrap>\", line 680 in _load_unlocked\n",
      "  File \"<frozen importlib._bootstrap>\", line 986 in _find_and_load_unlocked\n",
      "  File \"<frozen importlib._bootstrap>\", line 1007 in _find_and_load\n",
      "  File \"<frozen importlib._bootstrap>\", line 228 in _call_with_frames_removed\n",
      "  File \"<frozen importlib._bootstrap>\", line 972 in _find_and_load_unlocked\n",
      "  File \"<frozen importlib._bootstrap>\", line 1007 in _find_and_load\n",
      "  File \"C:\\Users\\Cindy C\\AppData\\Local\\pypoetry\\Cache\\virtualenvs\\finra-api-queries-FZA2Mhb8-py3.9\\lib\\site-packages\\seaborn\\external\\appdirs.py\", line 234 in <module>\n",
      "  File \"<frozen importlib._bootstrap>\", line 228 in _call_with_frames_removed\n",
      "  File \"<frozen importlib._bootstrap_external>\", line 790 in exec_module\n",
      "  File \"<frozen importlib._bootstrap>\", line 680 in _load_unlocked\n",
      "  File \"<frozen importlib._bootstrap>\", line 986 in _find_and_load_unlocked\n",
      "  File \"<frozen importlib._bootstrap>\", line 1007 in _find_and_load\n",
      "  File \"C:\\Users\\Cindy C\\AppData\\Local\\pypoetry\\Cache\\virtualenvs\\finra-api-queries-FZA2Mhb8-py3.9\\lib\\site-packages\\seaborn\\utils.py\", line 18 in <module>\n",
      "  File \"<frozen importlib._bootstrap>\", line 228 in _call_with_frames_removed\n",
      "  File \"<frozen importlib._bootstrap_external>\", line 790 in exec_module\n",
      "  File \"<frozen importlib._bootstrap>\", line 680 in _load_unlocked\n",
      "  File \"<frozen importlib._bootstrap>\", line 986 in _find_and_load_unlocked\n",
      "  File \"<frozen importlib._bootstrap>\", line 1007 in _find_and_load\n",
      "  File \"C:\\Users\\Cindy C\\AppData\\Local\\pypoetry\\Cache\\virtualenvs\\finra-api-queries-FZA2Mhb8-py3.9\\lib\\site-packages\\seaborn\\palettes.py\", line 9 in <module>\n",
      "  File \"<frozen importlib._bootstrap>\", line 228 in _call_with_frames_removed\n",
      "  File \"<frozen importlib._bootstrap_external>\", line 790 in exec_module\n",
      "  File \"<frozen importlib._bootstrap>\", line 680 in _load_unlocked\n",
      "  File \"<frozen importlib._bootstrap>\", line 986 in _find_and_load_unlocked\n",
      "  File \"<frozen importlib._bootstrap>\", line 1007 in _find_and_load\n",
      "  File \"<frozen importlib._bootstrap>\", line 228 in _call_with_frames_removed\n",
      "  File \"<frozen importlib._bootstrap>\", line 1058 in _handle_fromlist\n",
      "  File \"C:\\Users\\Cindy C\\AppData\\Local\\pypoetry\\Cache\\virtualenvs\\finra-api-queries-FZA2Mhb8-py3.9\\lib\\site-packages\\seaborn\\rcmod.py\", line 5 in <module>\n",
      "  File \"<frozen importlib._bootstrap>\", line 228 in _call_with_frames_removed\n",
      "  File \"<frozen importlib._bootstrap_external>\", line 790 in exec_module\n",
      "  File \"<frozen importlib._bootstrap>\", line 680 in _load_unlocked\n",
      "  File \"<frozen importlib._bootstrap>\", line 986 in _find_and_load_unlocked\n",
      "  File \"<frozen importlib._bootstrap>\", line 1007 in _find_and_load\n",
      "  File \"C:\\Users\\Cindy C\\AppData\\Local\\pypoetry\\Cache\\virtualenvs\\finra-api-queries-FZA2Mhb8-py3.9\\lib\\site-packages\\seaborn\\__init__.py\", line 2 in <module>\n",
      "  File \"<frozen importlib._bootstrap>\", line 228 in _call_with_frames_removed\n",
      "  File \"<frozen importlib._bootstrap_external>\", line 790 in exec_module\n",
      "  File \"<frozen importlib._bootstrap>\", line 680 in _load_unlocked\n",
      "  File \"<frozen importlib._bootstrap>\", line 986 in _find_and_load_unlocked\n",
      "  File \"<frozen importlib._bootstrap>\", line 1007 in _find_and_load\n",
      "  File \"c:\\Users\\Cindy C\\Documents\\GitHub\\Modern_Data_Structures\\chen_cindy\\finra_api_queries\\tests\\test_finra_api_queries.py\", line 587 in <module>\n",
      "  File \"C:\\Users\\Cindy C\\AppData\\Local\\pypoetry\\Cache\\virtualenvs\\finra-api-queries-FZA2Mhb8-py3.9\\lib\\site-packages\\_pytest\\assertion\\rewrite.py\", line 168 in exec_module\n",
      "  File \"<frozen importlib._bootstrap>\", line 680 in _load_unlocked\n",
      "  File \"<frozen importlib._bootstrap>\", line 986 in _find_and_load_unlocked\n",
      "  File \"<frozen importlib._bootstrap>\", line 1007 in _find_and_load\n",
      "  File \"<frozen importlib._bootstrap>\", line 1030 in _gcd_import\n",
      "  File \"c:\\users\\cindy c\\anaconda3\\lib\\importlib\\__init__.py\", line 127 in import_module\n",
      "  File \"C:\\Users\\Cindy C\\AppData\\Local\\pypoetry\\Cache\\virtualenvs\\finra-api-queries-FZA2Mhb8-py3.9\\lib\\site-packages\\_pytest\\pathlib.py\", line 533 in import_path\n",
      "  File \"C:\\Users\\Cindy C\\AppData\\Local\\pypoetry\\Cache\\virtualenvs\\finra-api-queries-FZA2Mhb8-py3.9\\lib\\site-packages\\_pytest\\python.py\", line 618 in _importtestmodule\n",
      "  File \"C:\\Users\\Cindy C\\AppData\\Local\\pypoetry\\Cache\\virtualenvs\\finra-api-queries-FZA2Mhb8-py3.9\\lib\\site-packages\\_pytest\\python.py\", line 529 in _getobj\n",
      "  File \"C:\\Users\\Cindy C\\AppData\\Local\\pypoetry\\Cache\\virtualenvs\\finra-api-queries-FZA2Mhb8-py3.9\\lib\\site-packages\\_pytest\\python.py\", line 311 in obj\n",
      "  File \"C:\\Users\\Cindy C\\AppData\\Local\\pypoetry\\Cache\\virtualenvs\\finra-api-queries-FZA2Mhb8-py3.9\\lib\\site-packages\\_pytest\\python.py\", line 546 in _inject_setup_module_fixture\n",
      "  File \"C:\\Users\\Cindy C\\AppData\\Local\\pypoetry\\Cache\\virtualenvs\\finra-api-queries-FZA2Mhb8-py3.9\\lib\\site-packages\\_pytest\\python.py\", line 532 in collect\n",
      "  File \"C:\\Users\\Cindy C\\AppData\\Local\\pypoetry\\Cache\\virtualenvs\\finra-api-queries-FZA2Mhb8-py3.9\\lib\\site-packages\\_pytest\\runner.py\", line 370 in <lambda>\n",
      "  File \"C:\\Users\\Cindy C\\AppData\\Local\\pypoetry\\Cache\\virtualenvs\\finra-api-queries-FZA2Mhb8-py3.9\\lib\\site-packages\\_pytest\\runner.py\", line 339 in from_call\n",
      "  File \"C:\\Users\\Cindy C\\AppData\\Local\\pypoetry\\Cache\\virtualenvs\\finra-api-queries-FZA2Mhb8-py3.9\\lib\\site-packages\\_pytest\\runner.py\", line 370 in pytest_make_collect_report\n",
      "  File \"C:\\Users\\Cindy C\\AppData\\Local\\pypoetry\\Cache\\virtualenvs\\finra-api-queries-FZA2Mhb8-py3.9\\lib\\site-packages\\pluggy\\_callers.py\", line 39 in _multicall\n",
      "  File \"C:\\Users\\Cindy C\\AppData\\Local\\pypoetry\\Cache\\virtualenvs\\finra-api-queries-FZA2Mhb8-py3.9\\lib\\site-packages\\pluggy\\_manager.py\", line 80 in _hookexec\n",
      "  File \"C:\\Users\\Cindy C\\AppData\\Local\\pypoetry\\Cache\\virtualenvs\\finra-api-queries-FZA2Mhb8-py3.9\\lib\\site-packages\\pluggy\\_hooks.py\", line 265 in __call__\n",
      "  File \"C:\\Users\\Cindy C\\AppData\\Local\\pypoetry\\Cache\\virtualenvs\\finra-api-queries-FZA2Mhb8-py3.9\\lib\\site-packages\\_pytest\\runner.py\", line 538 in collect_one_node\n",
      "  File \"C:\\Users\\Cindy C\\AppData\\Local\\pypoetry\\Cache\\virtualenvs\\finra-api-queries-FZA2Mhb8-py3.9\\lib\\site-packages\\_pytest\\main.py\", line 831 in genitems\n",
      "  File \"C:\\Users\\Cindy C\\AppData\\Local\\pypoetry\\Cache\\virtualenvs\\finra-api-queries-FZA2Mhb8-py3.9\\lib\\site-packages\\_pytest\\main.py\", line 664 in perform_collect\n",
      "  File \"C:\\Users\\Cindy C\\AppData\\Local\\pypoetry\\Cache\\virtualenvs\\finra-api-queries-FZA2Mhb8-py3.9\\lib\\site-packages\\_pytest\\main.py\", line 334 in pytest_collection\n",
      "  File \"C:\\Users\\Cindy C\\AppData\\Local\\pypoetry\\Cache\\virtualenvs\\finra-api-queries-FZA2Mhb8-py3.9\\lib\\site-packages\\pluggy\\_callers.py\", line 39 in _multicall\n",
      "  File \"C:\\Users\\Cindy C\\AppData\\Local\\pypoetry\\Cache\\virtualenvs\\finra-api-queries-FZA2Mhb8-py3.9\\lib\\site-packages\\pluggy\\_manager.py\", line 80 in _hookexec\n",
      "  File \"C:\\Users\\Cindy C\\AppData\\Local\\pypoetry\\Cache\\virtualenvs\\finra-api-queries-FZA2Mhb8-py3.9\\lib\\site-packages\\pluggy\\_hooks.py\", line 265 in __call__\n",
      "  File \"C:\\Users\\Cindy C\\AppData\\Local\\pypoetry\\Cache\\virtualenvs\\finra-api-queries-FZA2Mhb8-py3.9\\lib\\site-packages\\_pytest\\main.py\", line 323 in _main\n",
      "  File \"C:\\Users\\Cindy C\\AppData\\Local\\pypoetry\\Cache\\virtualenvs\\finra-api-queries-FZA2Mhb8-py3.9\\lib\\site-packages\\_pytest\\main.py\", line 270 in wrap_session\n",
      "  File \"C:\\Users\\Cindy C\\AppData\\Local\\pypoetry\\Cache\\virtualenvs\\finra-api-queries-FZA2Mhb8-py3.9\\lib\\site-packages\\_pytest\\main.py\", line 317 in pytest_cmdline_main\n",
      "  File \"C:\\Users\\Cindy C\\AppData\\Local\\pypoetry\\Cache\\virtualenvs\\finra-api-queries-FZA2Mhb8-py3.9\\lib\\site-packages\\pluggy\\_callers.py\", line 39 in _multicall\n",
      "  File \"C:\\Users\\Cindy C\\AppData\\Local\\pypoetry\\Cache\\virtualenvs\\finra-api-queries-FZA2Mhb8-py3.9\\lib\\site-packages\\pluggy\\_manager.py\", line 80 in _hookexec\n",
      "  File \"C:\\Users\\Cindy C\\AppData\\Local\\pypoetry\\Cache\\virtualenvs\\finra-api-queries-FZA2Mhb8-py3.9\\lib\\site-packages\\pluggy\\_hooks.py\", line 265 in __call__\n",
      "  File \"C:\\Users\\Cindy C\\AppData\\Local\\pypoetry\\Cache\\virtualenvs\\finra-api-queries-FZA2Mhb8-py3.9\\lib\\site-packages\\_pytest\\config\\__init__.py\", line 167 in main\n",
      "  File \"C:\\Users\\Cindy C\\AppData\\Local\\pypoetry\\Cache\\virtualenvs\\finra-api-queries-FZA2Mhb8-py3.9\\lib\\site-packages\\_pytest\\config\\__init__.py\", line 190 in console_main\n",
      "  File \"C:\\Users\\Cindy C\\AppData\\Local\\pypoetry\\Cache\\virtualenvs\\finra-api-queries-FZA2Mhb8-py3.9\\Scripts\\pytest.exe\\__main__.py\", line 7 in <module>\n",
      "  File \"c:\\users\\cindy c\\anaconda3\\lib\\runpy.py\", line 87 in _run_code\n",
      "  File \"c:\\users\\cindy c\\anaconda3\\lib\\runpy.py\", line 197 in _run_module_as_main\n"
     ]
    }
   ],
   "source": [
    "! poetry run pytest ./tests/test_finra_api_queries.py -vv"
   ]
  }
 ],
 "metadata": {
  "kernelspec": {
   "display_name": "Python 3.9.4 ('base')",
   "language": "python",
   "name": "python3"
  },
  "language_info": {
   "codemirror_mode": {
    "name": "ipython",
    "version": 3
   },
   "file_extension": ".py",
   "mimetype": "text/x-python",
   "name": "python",
   "nbconvert_exporter": "python",
   "pygments_lexer": "ipython3",
   "version": "3.9.4"
  },
  "orig_nbformat": 4,
  "vscode": {
   "interpreter": {
    "hash": "471c8e92200951bd44ab49c945cbddff2cbc14a9be04b4061e930180c8fe8be6"
   }
  }
 },
 "nbformat": 4,
 "nbformat_minor": 2
}
